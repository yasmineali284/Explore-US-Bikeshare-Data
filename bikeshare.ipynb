{
  "nbformat": 4,
  "nbformat_minor": 0,
  "metadata": {
    "colab": {
      "name": "bikeshare.ipynb",
      "provenance": [],
      "collapsed_sections": []
    },
    "kernelspec": {
      "name": "python3",
      "display_name": "Python 3"
    },
    "language_info": {
      "name": "python"
    }
  },
  "cells": [
    {
      "cell_type": "code",
      "source": [
        "#Mounting drive to access data\n",
        "\n",
        "from google.colab import drive\n",
        "drive.mount('/content/drive')"
      ],
      "metadata": {
        "id": "JW6606uXVJaQ",
        "colab": {
          "base_uri": "https://localhost:8080/"
        },
        "outputId": "2c73fc82-406c-42c3-f932-bfd29f2f06f8"
      },
      "execution_count": 1,
      "outputs": [
        {
          "output_type": "stream",
          "name": "stdout",
          "text": [
            "Mounted at /content/drive\n"
          ]
        }
      ]
    },
    {
      "cell_type": "code",
      "execution_count": 2,
      "metadata": {
        "id": "H7me4pyxPAHH"
      },
      "outputs": [],
      "source": [
        "import time\n",
        "import datetime as dt\n",
        "import pandas as pd\n",
        "import numpy as np"
      ]
    },
    {
      "cell_type": "code",
      "source": [
        "CITY_DATA = { 'chicago': '/content/drive/MyDrive/all-project-files/chicago.csv',\n",
        "              'new york city': '/content/drive/MyDrive/all-project-files/new_york_city.csv',\n",
        "              'washington': '/content/drive/MyDrive/all-project-files/washington.csv' }"
      ],
      "metadata": {
        "id": "wrfkSIo4hS-u"
      },
      "execution_count": 3,
      "outputs": []
    },
    {
      "cell_type": "code",
      "source": [
        "def get_filters():\n",
        "    \"\"\"\n",
        "    Asks user to specify a city, month, and day to analyze.\n",
        "\n",
        "    Returns:\n",
        "        (str) city - name of the city to analyze\n",
        "        (str) month - name of the month to filter by, or \"all\" to apply no month filter\n",
        "        (str) day - name of the day of week to filter by, or \"all\" to apply no day filter\n",
        "    \"\"\"\n",
        "    print('Hello! Let\\'s explore some US bikeshare data!')\n",
        "    # get user input for city (chicago, new york city, washington). HINT: Use a while loop to handle invalid inputs\n",
        "    city = input('Would you like see data for Chicago, New York City, Washington?: ').lower()\n",
        "    while(city not in CITY_DATA.keys()):\n",
        "      city = input('Value you entered is not included in the cities. Please enter one of these cities: Chicago, New York City, Washington.: ').lower()\n",
        "\n",
        "    # get user input for month (all, january, february, ... , june)\n",
        "    month = input('Which month? January, Februray, March, April, May, or June? For all, enter all.: ').lower()\n",
        "    while(month not in ('january', 'februray', 'march', 'april', 'may', 'june', 'all')):\n",
        "      month = input('Value you entered is not included in the months. Please enter the month again.: ').lower()\n",
        "\n",
        "\n",
        "    # get user input for day of week (all, monday, tuesday, ... sunday)\n",
        "    day = input('Which day? Enter the day as string. For all, enter all.: ').title()\n",
        "    while(day not in ('Sunday', 'Monday', 'Tuesday', 'Wednesday', 'Thurday', 'Friday', 'Saturday', 'All')):\n",
        "      day = input('Value is not available. Please enter the day again.: ').title()\n",
        "\n",
        "    print('-'*40)\n",
        "    return city, month, day"
      ],
      "metadata": {
        "id": "EwfShicPP5w9"
      },
      "execution_count": 4,
      "outputs": []
    },
    {
      "cell_type": "code",
      "source": [
        "def load_data(city, month, day):\n",
        "    \"\"\"\n",
        "    Loads data for the specified city and filters by month and day if applicable.\n",
        "\n",
        "    Args:\n",
        "        (str) city - name of the city to analyze\n",
        "        (str) month - name of the month to filter by, or \"all\" to apply no month filter\n",
        "        (str) day - name of the day of week to filter by, or \"all\" to apply no day filter\n",
        "    Returns:\n",
        "        df - pandas DataFrame containing city data filtered by month and day\n",
        "    \"\"\"\n",
        "    \n",
        "    month = month.lower()\n",
        "    day = day.title()\n",
        "\n",
        "    # load data file into a dataframe\n",
        "    df = pd.read_csv(CITY_DATA[city])\n",
        "\n",
        "    # convert the Start Time column to datetime\n",
        "    df['Start Time'] = pd.to_datetime(df['Start Time'])\n",
        "\n",
        "    # extract month and day of week from Start Time to create new columns\n",
        "    df['month'] = df['Start Time'].dt.month\n",
        "    df['day_of_week'] = df['Start Time'].dt.day_name()\n",
        "    \n",
        "    # filter by month if applicable\n",
        "    if month != 'all':\n",
        "        # use the index of the months list to get the corresponding int\n",
        "        months = ['january', 'february', 'march', 'april', 'may', 'june']\n",
        "        month = months.index(month) + 1\n",
        "    \n",
        "        # filter by month to create the new dataframe\n",
        "        df = df.query(\"month == @month\")\n",
        "\n",
        "    # filter by day of week if applicable\n",
        "    if day != 'All':\n",
        "        # filter by day of week to create the new dataframe\n",
        "        df = df.query(\"day_of_week == @day\")\n",
        "    \n",
        "    return df"
      ],
      "metadata": {
        "id": "CoQ3IAtnT6Fz"
      },
      "execution_count": 5,
      "outputs": []
    },
    {
      "cell_type": "code",
      "source": [
        "def time_stats(df):\n",
        "    \"\"\"Displays statistics on the most frequent times of travel.\"\"\"\n",
        "\n",
        "    months = ['january', 'february', 'march', 'april', 'may', 'june']\n",
        "    print('\\nCalculating The Most Frequent Times of Travel...\\n')\n",
        "    start_time = time.time()\n",
        "\n",
        "    # display the most common month\n",
        "    common_month = months[df['month'].mode()[0]-1]\n",
        "    print('Most common month is: {}'.format(common_month.title()))\n",
        "\n",
        "    # display the most common day of week\n",
        "    common_day = df['day_of_week'].mode()[0]\n",
        "    print('Most common day is: {}'.format(common_day))\n",
        "\n",
        "    # display the most common start hour\n",
        "    common_hour = df['Start Time'].dt.hour.mode()[0]\n",
        "    print('Most common day is: {}'.format(common_hour))\n",
        "\n",
        "    print(\"\\nThis took %s seconds.\" % (time.time() - start_time))\n",
        "    print('-'*40)"
      ],
      "metadata": {
        "id": "-CfD5K4_nyGL"
      },
      "execution_count": 6,
      "outputs": []
    },
    {
      "cell_type": "code",
      "source": [
        "def station_stats(df):\n",
        "    \"\"\"Displays statistics on the most popular stations and trip.\"\"\"\n",
        "\n",
        "    print('\\nCalculating The Most Popular Stations and Trip...\\n')\n",
        "    start_time = time.time()\n",
        "\n",
        "    # display most commonly used start station\n",
        "    common_start_station = df['Start Station'].mode()[0]\n",
        "    print('Most common start station is: {}'.format(common_start_station))\n",
        "\n",
        "    # display most commonly used end station\n",
        "    common_end_station = df['End Station'].mode()[0]\n",
        "    print('Most common end station is: {}'.format(common_end_station))\n",
        "\n",
        "    # display most frequent combination of start station and end station trip\n",
        "    common_start_end_stations = (df['Start Station'] + ' to ' + df['End Station']).mode()\n",
        "    print('Most frequent combination of start station and end station trip is: {}'\n",
        "          .format(common_start_end_stations))\n",
        "\n",
        "\n",
        "    print(\"\\nThis took %s seconds.\" % (time.time() - start_time))\n",
        "    print('-'*40)"
      ],
      "metadata": {
        "id": "au8PuAS1sSiI"
      },
      "execution_count": 7,
      "outputs": []
    },
    {
      "cell_type": "code",
      "source": [
        "def trip_duration_stats(df):\n",
        "    \"\"\"Displays statistics on the total and average trip duration.\"\"\"\n",
        "\n",
        "    print('\\nCalculating Trip Duration...\\n')\n",
        "    start_time = time.time()\n",
        "\n",
        "    # display total travel time\n",
        "    total_travel_time = df['Trip Duration'].sum()\n",
        "    print('Total Travel Time = {}'.format(total_travel_time))\n",
        "\n",
        "    # display mean travel time\n",
        "    avg_travel_time = df['Trip Duration'].sum()\n",
        "    print('Average Travel Time = {}'.format(avg_travel_time))\n",
        "\n",
        "    print(\"\\nThis took %s seconds.\" % (time.time() - start_time))\n",
        "    print('-'*40)"
      ],
      "metadata": {
        "id": "kK6nSj7qApOq"
      },
      "execution_count": 8,
      "outputs": []
    },
    {
      "cell_type": "code",
      "source": [
        "def user_stats(df, city):\n",
        "    \"\"\"Displays statistics on bikeshare users.\"\"\"\n",
        "\n",
        "    print('\\nCalculating User Stats...\\n')\n",
        "    start_time = time.time()\n",
        "\n",
        "    # Display counts of user types\n",
        "    user_types = df['User Type'].value_counts()\n",
        "    print(\"Counts of user types: \\n\", user_types)\n",
        "\n",
        "    if city in ('chicago', 'new york city'):\n",
        "        # Display counts of gender\n",
        "        gender_count = df['Gender'].dropna(axis=0).value_counts()\n",
        "        print(\"Counts of gender: \\n\", gender_count)\n",
        "\n",
        "        # Display earliest, most recent, and most common year of birth\n",
        "        earliest_year = df['Birth Year'].dropna(axis=0).min()\n",
        "        print(\"Earliest Birth Year is: {}\".format(int(earliest_year)))\n",
        "        recent_year = df['Birth Year'].dropna(axis=0).max()\n",
        "        print(\"Recent Birth Year is: {}\".format(int(recent_year)))\n",
        "        common_year = df['Birth Year'].dropna(axis=0).mode()[0]\n",
        "        print(\"Most Common Birth Year is: {}\".format(int(common_year)))\n",
        "\n",
        "\n",
        "    print(\"\\nThis took %s seconds.\" % (time.time() - start_time))\n",
        "    print('-'*40)"
      ],
      "metadata": {
        "id": "mOM94Q_4DYZE"
      },
      "execution_count": 9,
      "outputs": []
    },
    {
      "cell_type": "code",
      "source": [
        "def raw_data(df):\n",
        "    view_data = input('Would you like to review individual trip data? Please Enter Yes or No: ').lower()\n",
        "    if view_data == 'yes':\n",
        "        while True:\n",
        "            try:\n",
        "                num_of_data = int(input('How many trips? Please enter an numerical integer value'))\n",
        "                break\n",
        "            except:\n",
        "                print('Value is not a number. Please try again. \\n')\n",
        "    start_loc = 0\n",
        "    while view_data == 'yes':\n",
        "        data = df.loc[start_loc: start_loc+num_of_data]\n",
        "        print(data.to_dict(orient='records'))\n",
        "        start_loc += num_of_data\n",
        "        view_data = input('Do you want to see more? Yes or No: ').lower()\n"
      ],
      "metadata": {
        "id": "5KgL-sagK2H5"
      },
      "execution_count": 20,
      "outputs": []
    },
    {
      "cell_type": "code",
      "source": [
        "def main():\n",
        "    while True:\n",
        "        city, month, day = get_filters()\n",
        "        df = load_data(city, month, day)\n",
        "\n",
        "        time_stats(df)\n",
        "        station_stats(df)\n",
        "        trip_duration_stats(df)\n",
        "        user_stats(df, city)\n",
        "        raw_data(df)\n",
        "\n",
        "        restart = input('\\nWould you like to restart? Enter yes or no.\\n')\n",
        "        if restart.lower() != 'yes':\n",
        "            break"
      ],
      "metadata": {
        "id": "8a8tHaIaoCXa"
      },
      "execution_count": 21,
      "outputs": []
    },
    {
      "cell_type": "code",
      "source": [
        "if __name__ == '__main__':\n",
        "    main()"
      ],
      "metadata": {
        "id": "ufsg8ZVfoUET"
      },
      "execution_count": null,
      "outputs": []
    },
    {
      "cell_type": "code",
      "source": [
        ""
      ],
      "metadata": {
        "id": "28n76K_POUlD"
      },
      "execution_count": null,
      "outputs": []
    }
  ]
}