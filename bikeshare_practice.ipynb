{
  "nbformat": 4,
  "nbformat_minor": 0,
  "metadata": {
    "colab": {
      "name": "bikeshare_practice.ipynb",
      "provenance": []
    },
    "kernelspec": {
      "name": "python3",
      "display_name": "Python 3"
    },
    "language_info": {
      "name": "python"
    }
  },
  "cells": [
    {
      "cell_type": "markdown",
      "source": [
        "#Practice Problem #1\n"
      ],
      "metadata": {
        "id": "Wi-rszDFVoGn"
      }
    },
    {
      "cell_type": "code",
      "source": [
        "#Mounting drive to access data\n",
        "\n",
        "from google.colab import drive\n",
        "drive.mount('/content/drive')"
      ],
      "metadata": {
        "id": "JW6606uXVJaQ",
        "colab": {
          "base_uri": "https://localhost:8080/"
        },
        "outputId": "08379108-133d-47a5-ca86-2e1d4312ada9"
      },
      "execution_count": null,
      "outputs": [
        {
          "output_type": "stream",
          "name": "stdout",
          "text": [
            "Drive already mounted at /content/drive; to attempt to forcibly remount, call drive.mount(\"/content/drive\", force_remount=True).\n"
          ]
        }
      ]
    },
    {
      "cell_type": "code",
      "source": [
        "import pandas as pd\n",
        "import datetime as dt"
      ],
      "metadata": {
        "id": "FA75HmaWVeeT"
      },
      "execution_count": null,
      "outputs": []
    },
    {
      "cell_type": "code",
      "source": [
        "filename = '/content/drive/MyDrive/all-project-files/chicago.csv'"
      ],
      "metadata": {
        "id": "A3o50fk5VmZQ"
      },
      "execution_count": null,
      "outputs": []
    },
    {
      "cell_type": "code",
      "source": [
        "# load data file into a dataframe\n",
        "df = pd.read_csv(filename)"
      ],
      "metadata": {
        "id": "XmbMTct2V6ww"
      },
      "execution_count": null,
      "outputs": []
    },
    {
      "cell_type": "code",
      "source": [
        "print(type(df['Start Time']))"
      ],
      "metadata": {
        "colab": {
          "base_uri": "https://localhost:8080/"
        },
        "id": "sLRg11S5WfQL",
        "outputId": "d8f83914-3432-47bb-b52c-08a3e8ea9a89"
      },
      "execution_count": null,
      "outputs": [
        {
          "output_type": "stream",
          "name": "stdout",
          "text": [
            "<class 'pandas.core.series.Series'>\n"
          ]
        }
      ]
    },
    {
      "cell_type": "code",
      "source": [
        "df['Start Time'] = pd.to_datetime(df['Start Time'] )"
      ],
      "metadata": {
        "id": "M7m_Cpz9WB2q"
      },
      "execution_count": null,
      "outputs": []
    },
    {
      "cell_type": "code",
      "source": [
        "df['Start Time']"
      ],
      "metadata": {
        "colab": {
          "base_uri": "https://localhost:8080/"
        },
        "id": "TnXPVD2RWUO8",
        "outputId": "4b3b9f04-6e1a-4e4f-8057-a747d4ab46c2"
      },
      "execution_count": null,
      "outputs": [
        {
          "output_type": "execute_result",
          "data": {
            "text/plain": [
              "0        2017-06-23 15:09:32\n",
              "1        2017-05-25 18:19:03\n",
              "2        2017-01-04 08:27:49\n",
              "3        2017-03-06 13:49:38\n",
              "4        2017-01-17 14:53:07\n",
              "                 ...        \n",
              "299995   2017-01-21 13:18:00\n",
              "299996   2017-04-28 19:32:19\n",
              "299997   2017-02-12 09:59:01\n",
              "299998   2017-04-16 17:07:15\n",
              "299999   2017-05-30 12:38:28\n",
              "Name: Start Time, Length: 300000, dtype: datetime64[ns]"
            ]
          },
          "metadata": {},
          "execution_count": 12
        }
      ]
    },
    {
      "cell_type": "code",
      "source": [
        "# extract hour from the Start Time column to create an hour column\n",
        "df['hour'] = df['Start Time'].dt.hour"
      ],
      "metadata": {
        "id": "O8nsUfaNZCiW"
      },
      "execution_count": null,
      "outputs": []
    },
    {
      "cell_type": "code",
      "source": [
        "df['hour']"
      ],
      "metadata": {
        "colab": {
          "base_uri": "https://localhost:8080/"
        },
        "id": "fuWiF6dgc3Dl",
        "outputId": "1d57126e-d999-43f1-a171-39ecbc3fcd2f"
      },
      "execution_count": null,
      "outputs": [
        {
          "output_type": "execute_result",
          "data": {
            "text/plain": [
              "0         15\n",
              "1         18\n",
              "2          8\n",
              "3         13\n",
              "4         14\n",
              "          ..\n",
              "299995    13\n",
              "299996    19\n",
              "299997     9\n",
              "299998    17\n",
              "299999    12\n",
              "Name: hour, Length: 300000, dtype: int64"
            ]
          },
          "metadata": {},
          "execution_count": 18
        }
      ]
    },
    {
      "cell_type": "code",
      "source": [
        "# find the most common hour (from 0 to 23)\n",
        "# another: \n",
        "# popular_hour = df['hour'].mode()[0]\n",
        "popular_hour = int(df['hour'].mode())"
      ],
      "metadata": {
        "id": "6nS7uNUad4yp"
      },
      "execution_count": null,
      "outputs": []
    },
    {
      "cell_type": "code",
      "source": [
        "print('Most Frequent Start Hour:', popular_hour)"
      ],
      "metadata": {
        "colab": {
          "base_uri": "https://localhost:8080/"
        },
        "id": "TbLcj1ndeIaA",
        "outputId": "3f0ae50f-725c-458e-ae6b-fd64e6dd15bf"
      },
      "execution_count": null,
      "outputs": [
        {
          "output_type": "stream",
          "name": "stdout",
          "text": [
            "Most Frequent Start Hour: 17\n"
          ]
        }
      ]
    },
    {
      "cell_type": "code",
      "source": [
        ""
      ],
      "metadata": {
        "id": "I7-MU8ROeOAn"
      },
      "execution_count": null,
      "outputs": []
    },
    {
      "cell_type": "markdown",
      "source": [
        "#Practice Problem #2"
      ],
      "metadata": {
        "id": "WVBeGLSze49C"
      }
    },
    {
      "cell_type": "code",
      "source": [
        "import pandas as pd"
      ],
      "metadata": {
        "id": "CppLFeQlfAPZ"
      },
      "execution_count": null,
      "outputs": []
    },
    {
      "cell_type": "code",
      "source": [
        "filename = '/content/drive/MyDrive/all-project-files/chicago.csv'"
      ],
      "metadata": {
        "id": "akD1BwQuf_DH"
      },
      "execution_count": null,
      "outputs": []
    },
    {
      "cell_type": "code",
      "source": [
        "# load data file into a dataframe\n",
        "df = pd.read_csv(filename)"
      ],
      "metadata": {
        "id": "PWjS6eGCgAon"
      },
      "execution_count": null,
      "outputs": []
    },
    {
      "cell_type": "code",
      "source": [
        "df['User Type']"
      ],
      "metadata": {
        "colab": {
          "base_uri": "https://localhost:8080/"
        },
        "id": "fbde_2qogJbM",
        "outputId": "90a9a359-1a38-4dc2-c5e6-000c3f750f1e"
      },
      "execution_count": null,
      "outputs": [
        {
          "output_type": "execute_result",
          "data": {
            "text/plain": [
              "0         Subscriber\n",
              "1         Subscriber\n",
              "2         Subscriber\n",
              "3         Subscriber\n",
              "4         Subscriber\n",
              "             ...    \n",
              "299995    Subscriber\n",
              "299996      Customer\n",
              "299997    Subscriber\n",
              "299998      Customer\n",
              "299999    Subscriber\n",
              "Name: User Type, Length: 300000, dtype: object"
            ]
          },
          "metadata": {},
          "execution_count": 29
        }
      ]
    },
    {
      "cell_type": "code",
      "source": [
        "# print value counts for each user type\n",
        "user_types = df['User Type'].value_counts()"
      ],
      "metadata": {
        "id": "5PGbq99MgMr4"
      },
      "execution_count": null,
      "outputs": []
    },
    {
      "cell_type": "code",
      "source": [
        "print(user_types)"
      ],
      "metadata": {
        "colab": {
          "base_uri": "https://localhost:8080/"
        },
        "id": "OuUm2Mxbgxek",
        "outputId": "f1b8cadf-e506-4490-ce3f-fc44984bc758"
      },
      "execution_count": null,
      "outputs": [
        {
          "output_type": "stream",
          "name": "stdout",
          "text": [
            "Subscriber    238889\n",
            "Customer       61110\n",
            "Dependent          1\n",
            "Name: User Type, dtype: int64\n"
          ]
        }
      ]
    },
    {
      "cell_type": "code",
      "source": [
        ""
      ],
      "metadata": {
        "id": "fRhV6jY8g0GQ"
      },
      "execution_count": null,
      "outputs": []
    },
    {
      "cell_type": "markdown",
      "source": [
        "#Practice Problem #3"
      ],
      "metadata": {
        "id": "F3xXBdYZhBbw"
      }
    },
    {
      "cell_type": "code",
      "source": [
        "import pandas as pd\n",
        "import datetime as dt"
      ],
      "metadata": {
        "id": "YombveO_hIfs"
      },
      "execution_count": null,
      "outputs": []
    },
    {
      "cell_type": "code",
      "source": [
        "CITY_DATA = { 'chicago': '/content/drive/MyDrive/all-project-files/chicago.csv',\n",
        "              'new york city': '/content/drive/MyDrive/all-project-files/new_york_city.csv',\n",
        "              'washington': '/content/drive/MyDrive/all-project-files/washington.csv' }"
      ],
      "metadata": {
        "id": "wrfkSIo4hS-u"
      },
      "execution_count": null,
      "outputs": []
    },
    {
      "cell_type": "code",
      "source": [
        "# My Answer \n",
        "def load_data(city, month, day):\n",
        "    \"\"\"\n",
        "    Loads data for the specified city and filters by month and day if applicable.\n",
        "\n",
        "    Args:\n",
        "        (str) city - name of the city to analyze\n",
        "        (str) month - name of the month to filter by, or \"all\" to apply no month filter\n",
        "        (str) day - name of the day of week to filter by, or \"all\" to apply no day filter\n",
        "    Returns:\n",
        "        df - pandas DataFrame containing city data filtered by month and day\n",
        "    \"\"\"\n",
        "    \n",
        "    month = month.lower()\n",
        "    day = day.title()\n",
        "\n",
        "    # load data file into a dataframe\n",
        "    df = pd.read_csv(CITY_DATA[city])\n",
        "\n",
        "    # convert the Start Time column to datetime\n",
        "    df['Start Time'] = pd.to_datetime(df['Start Time'])\n",
        "\n",
        "    # extract month and day of week from Start Time to create new columns\n",
        "    df['month'] = df['Start Time'].dt.month\n",
        "    # answer: old method \n",
        "    # df['day_of_week'] = df['Start Time'].dt.weekday_name\n",
        "    df['day_of_week'] = df['Start Time'].dt.day_name()\n",
        "\n",
        "    # filter by month if applicable\n",
        "    if month != 'all':\n",
        "        # use the index of the months list to get the corresponding int\n",
        "        months = ['january', 'february', 'march', 'april', 'may', 'june']\n",
        "        month = months.index(month) + 1\n",
        "    \n",
        "        # filter by month to create the new dataframe\n",
        "        # answer:\n",
        "        # df = df[df['month'] == month]\n",
        "        df = df.query(\"month == @month\")\n",
        "\n",
        "    # filter by day of week if applicable\n",
        "    if day != 'all':\n",
        "        # filter by day of week to create the new dataframe\n",
        "        # answer\n",
        "        # df = df[df['day_of_week'] == day.title()]\n",
        "        df = df.query(\"day_of_week == @day\")\n",
        "    \n",
        "    return df\n",
        "\n",
        "df = load_data('chicago', 'march', 'friday')\n",
        "df\n"
      ],
      "metadata": {
        "colab": {
          "base_uri": "https://localhost:8080/",
          "height": 922
        },
        "id": "1Avts7VehZXk",
        "outputId": "d1e42281-4e61-448c-d976-fb20885483a3"
      },
      "execution_count": null,
      "outputs": [
        {
          "output_type": "execute_result",
          "data": {
            "text/plain": [
              "        Unnamed: 0          Start Time             End Time  Trip Duration  \\\n",
              "37          395803 2017-03-24 15:35:55  2017-03-24 15:46:10            615   \n",
              "93          395735 2017-03-24 15:32:04  2017-03-24 15:52:53           1249   \n",
              "175         395402 2017-03-24 15:10:29  2017-03-24 15:19:44            555   \n",
              "190         393400 2017-03-24 12:29:30  2017-03-24 12:48:56           1166   \n",
              "198         427496 2017-03-31 08:25:53  2017-03-31 08:39:09            796   \n",
              "...            ...                 ...                  ...            ...   \n",
              "299816      333246 2017-03-10 17:40:53  2017-03-10 17:44:59            246   \n",
              "299839      392682 2017-03-24 11:17:50  2017-03-24 11:51:44           2034   \n",
              "299860      290125 2017-03-03 12:19:29  2017-03-03 12:32:58            809   \n",
              "299865      288513 2017-03-03 07:26:48  2017-03-03 07:31:22            274   \n",
              "299898      292757 2017-03-03 19:30:48  2017-03-03 19:34:52            244   \n",
              "\n",
              "                         Start Station                      End Station  \\\n",
              "37               Dearborn St & Erie St          State St & Van Buren St   \n",
              "93           Sedgwick St & Webster Ave      Western Ave & Winnebago Ave   \n",
              "175            Franklin St & Monroe St          Aberdeen St & Monroe St   \n",
              "190     Southport Ave & Wellington Ave       Lake Shore Dr & North Blvd   \n",
              "198          Clinton St & Jackson Blvd  Racine Ave (May St) & Fulton St   \n",
              "...                                ...                              ...   \n",
              "299816            Wells St & Walton St               Rush St & Cedar St   \n",
              "299839       Lake Shore Dr & Monroe St          Streeter Dr & Grand Ave   \n",
              "299860         Aberdeen St & Monroe St         Clark St & 9th St (AMLI)   \n",
              "299865         Damen Ave & Melrose Ave          Lincoln Ave & Roscoe St   \n",
              "299898           Clark St & Berwyn Ave            Broadway & Berwyn Ave   \n",
              "\n",
              "         User Type  Gender  Birth Year  month day_of_week  \n",
              "37      Subscriber    Male      1989.0      3      Friday  \n",
              "93      Subscriber  Female      1964.0      3      Friday  \n",
              "175     Subscriber    Male      1987.0      3      Friday  \n",
              "190     Subscriber  Female      1984.0      3      Friday  \n",
              "198     Subscriber    Male      1983.0      3      Friday  \n",
              "...            ...     ...         ...    ...         ...  \n",
              "299816  Subscriber  Female      1992.0      3      Friday  \n",
              "299839    Customer     NaN         NaN      3      Friday  \n",
              "299860  Subscriber    Male      1975.0      3      Friday  \n",
              "299865  Subscriber  Female      1981.0      3      Friday  \n",
              "299898  Subscriber    Male      1980.0      3      Friday  \n",
              "\n",
              "[5813 rows x 11 columns]"
            ],
            "text/html": [
              "\n",
              "  <div id=\"df-a9bc70d3-fb7f-4926-b16e-4f5b6c6149f1\">\n",
              "    <div class=\"colab-df-container\">\n",
              "      <div>\n",
              "<style scoped>\n",
              "    .dataframe tbody tr th:only-of-type {\n",
              "        vertical-align: middle;\n",
              "    }\n",
              "\n",
              "    .dataframe tbody tr th {\n",
              "        vertical-align: top;\n",
              "    }\n",
              "\n",
              "    .dataframe thead th {\n",
              "        text-align: right;\n",
              "    }\n",
              "</style>\n",
              "<table border=\"1\" class=\"dataframe\">\n",
              "  <thead>\n",
              "    <tr style=\"text-align: right;\">\n",
              "      <th></th>\n",
              "      <th>Unnamed: 0</th>\n",
              "      <th>Start Time</th>\n",
              "      <th>End Time</th>\n",
              "      <th>Trip Duration</th>\n",
              "      <th>Start Station</th>\n",
              "      <th>End Station</th>\n",
              "      <th>User Type</th>\n",
              "      <th>Gender</th>\n",
              "      <th>Birth Year</th>\n",
              "      <th>month</th>\n",
              "      <th>day_of_week</th>\n",
              "    </tr>\n",
              "  </thead>\n",
              "  <tbody>\n",
              "    <tr>\n",
              "      <th>37</th>\n",
              "      <td>395803</td>\n",
              "      <td>2017-03-24 15:35:55</td>\n",
              "      <td>2017-03-24 15:46:10</td>\n",
              "      <td>615</td>\n",
              "      <td>Dearborn St &amp; Erie St</td>\n",
              "      <td>State St &amp; Van Buren St</td>\n",
              "      <td>Subscriber</td>\n",
              "      <td>Male</td>\n",
              "      <td>1989.0</td>\n",
              "      <td>3</td>\n",
              "      <td>Friday</td>\n",
              "    </tr>\n",
              "    <tr>\n",
              "      <th>93</th>\n",
              "      <td>395735</td>\n",
              "      <td>2017-03-24 15:32:04</td>\n",
              "      <td>2017-03-24 15:52:53</td>\n",
              "      <td>1249</td>\n",
              "      <td>Sedgwick St &amp; Webster Ave</td>\n",
              "      <td>Western Ave &amp; Winnebago Ave</td>\n",
              "      <td>Subscriber</td>\n",
              "      <td>Female</td>\n",
              "      <td>1964.0</td>\n",
              "      <td>3</td>\n",
              "      <td>Friday</td>\n",
              "    </tr>\n",
              "    <tr>\n",
              "      <th>175</th>\n",
              "      <td>395402</td>\n",
              "      <td>2017-03-24 15:10:29</td>\n",
              "      <td>2017-03-24 15:19:44</td>\n",
              "      <td>555</td>\n",
              "      <td>Franklin St &amp; Monroe St</td>\n",
              "      <td>Aberdeen St &amp; Monroe St</td>\n",
              "      <td>Subscriber</td>\n",
              "      <td>Male</td>\n",
              "      <td>1987.0</td>\n",
              "      <td>3</td>\n",
              "      <td>Friday</td>\n",
              "    </tr>\n",
              "    <tr>\n",
              "      <th>190</th>\n",
              "      <td>393400</td>\n",
              "      <td>2017-03-24 12:29:30</td>\n",
              "      <td>2017-03-24 12:48:56</td>\n",
              "      <td>1166</td>\n",
              "      <td>Southport Ave &amp; Wellington Ave</td>\n",
              "      <td>Lake Shore Dr &amp; North Blvd</td>\n",
              "      <td>Subscriber</td>\n",
              "      <td>Female</td>\n",
              "      <td>1984.0</td>\n",
              "      <td>3</td>\n",
              "      <td>Friday</td>\n",
              "    </tr>\n",
              "    <tr>\n",
              "      <th>198</th>\n",
              "      <td>427496</td>\n",
              "      <td>2017-03-31 08:25:53</td>\n",
              "      <td>2017-03-31 08:39:09</td>\n",
              "      <td>796</td>\n",
              "      <td>Clinton St &amp; Jackson Blvd</td>\n",
              "      <td>Racine Ave (May St) &amp; Fulton St</td>\n",
              "      <td>Subscriber</td>\n",
              "      <td>Male</td>\n",
              "      <td>1983.0</td>\n",
              "      <td>3</td>\n",
              "      <td>Friday</td>\n",
              "    </tr>\n",
              "    <tr>\n",
              "      <th>...</th>\n",
              "      <td>...</td>\n",
              "      <td>...</td>\n",
              "      <td>...</td>\n",
              "      <td>...</td>\n",
              "      <td>...</td>\n",
              "      <td>...</td>\n",
              "      <td>...</td>\n",
              "      <td>...</td>\n",
              "      <td>...</td>\n",
              "      <td>...</td>\n",
              "      <td>...</td>\n",
              "    </tr>\n",
              "    <tr>\n",
              "      <th>299816</th>\n",
              "      <td>333246</td>\n",
              "      <td>2017-03-10 17:40:53</td>\n",
              "      <td>2017-03-10 17:44:59</td>\n",
              "      <td>246</td>\n",
              "      <td>Wells St &amp; Walton St</td>\n",
              "      <td>Rush St &amp; Cedar St</td>\n",
              "      <td>Subscriber</td>\n",
              "      <td>Female</td>\n",
              "      <td>1992.0</td>\n",
              "      <td>3</td>\n",
              "      <td>Friday</td>\n",
              "    </tr>\n",
              "    <tr>\n",
              "      <th>299839</th>\n",
              "      <td>392682</td>\n",
              "      <td>2017-03-24 11:17:50</td>\n",
              "      <td>2017-03-24 11:51:44</td>\n",
              "      <td>2034</td>\n",
              "      <td>Lake Shore Dr &amp; Monroe St</td>\n",
              "      <td>Streeter Dr &amp; Grand Ave</td>\n",
              "      <td>Customer</td>\n",
              "      <td>NaN</td>\n",
              "      <td>NaN</td>\n",
              "      <td>3</td>\n",
              "      <td>Friday</td>\n",
              "    </tr>\n",
              "    <tr>\n",
              "      <th>299860</th>\n",
              "      <td>290125</td>\n",
              "      <td>2017-03-03 12:19:29</td>\n",
              "      <td>2017-03-03 12:32:58</td>\n",
              "      <td>809</td>\n",
              "      <td>Aberdeen St &amp; Monroe St</td>\n",
              "      <td>Clark St &amp; 9th St (AMLI)</td>\n",
              "      <td>Subscriber</td>\n",
              "      <td>Male</td>\n",
              "      <td>1975.0</td>\n",
              "      <td>3</td>\n",
              "      <td>Friday</td>\n",
              "    </tr>\n",
              "    <tr>\n",
              "      <th>299865</th>\n",
              "      <td>288513</td>\n",
              "      <td>2017-03-03 07:26:48</td>\n",
              "      <td>2017-03-03 07:31:22</td>\n",
              "      <td>274</td>\n",
              "      <td>Damen Ave &amp; Melrose Ave</td>\n",
              "      <td>Lincoln Ave &amp; Roscoe St</td>\n",
              "      <td>Subscriber</td>\n",
              "      <td>Female</td>\n",
              "      <td>1981.0</td>\n",
              "      <td>3</td>\n",
              "      <td>Friday</td>\n",
              "    </tr>\n",
              "    <tr>\n",
              "      <th>299898</th>\n",
              "      <td>292757</td>\n",
              "      <td>2017-03-03 19:30:48</td>\n",
              "      <td>2017-03-03 19:34:52</td>\n",
              "      <td>244</td>\n",
              "      <td>Clark St &amp; Berwyn Ave</td>\n",
              "      <td>Broadway &amp; Berwyn Ave</td>\n",
              "      <td>Subscriber</td>\n",
              "      <td>Male</td>\n",
              "      <td>1980.0</td>\n",
              "      <td>3</td>\n",
              "      <td>Friday</td>\n",
              "    </tr>\n",
              "  </tbody>\n",
              "</table>\n",
              "<p>5813 rows × 11 columns</p>\n",
              "</div>\n",
              "      <button class=\"colab-df-convert\" onclick=\"convertToInteractive('df-a9bc70d3-fb7f-4926-b16e-4f5b6c6149f1')\"\n",
              "              title=\"Convert this dataframe to an interactive table.\"\n",
              "              style=\"display:none;\">\n",
              "        \n",
              "  <svg xmlns=\"http://www.w3.org/2000/svg\" height=\"24px\"viewBox=\"0 0 24 24\"\n",
              "       width=\"24px\">\n",
              "    <path d=\"M0 0h24v24H0V0z\" fill=\"none\"/>\n",
              "    <path d=\"M18.56 5.44l.94 2.06.94-2.06 2.06-.94-2.06-.94-.94-2.06-.94 2.06-2.06.94zm-11 1L8.5 8.5l.94-2.06 2.06-.94-2.06-.94L8.5 2.5l-.94 2.06-2.06.94zm10 10l.94 2.06.94-2.06 2.06-.94-2.06-.94-.94-2.06-.94 2.06-2.06.94z\"/><path d=\"M17.41 7.96l-1.37-1.37c-.4-.4-.92-.59-1.43-.59-.52 0-1.04.2-1.43.59L10.3 9.45l-7.72 7.72c-.78.78-.78 2.05 0 2.83L4 21.41c.39.39.9.59 1.41.59.51 0 1.02-.2 1.41-.59l7.78-7.78 2.81-2.81c.8-.78.8-2.07 0-2.86zM5.41 20L4 18.59l7.72-7.72 1.47 1.35L5.41 20z\"/>\n",
              "  </svg>\n",
              "      </button>\n",
              "      \n",
              "  <style>\n",
              "    .colab-df-container {\n",
              "      display:flex;\n",
              "      flex-wrap:wrap;\n",
              "      gap: 12px;\n",
              "    }\n",
              "\n",
              "    .colab-df-convert {\n",
              "      background-color: #E8F0FE;\n",
              "      border: none;\n",
              "      border-radius: 50%;\n",
              "      cursor: pointer;\n",
              "      display: none;\n",
              "      fill: #1967D2;\n",
              "      height: 32px;\n",
              "      padding: 0 0 0 0;\n",
              "      width: 32px;\n",
              "    }\n",
              "\n",
              "    .colab-df-convert:hover {\n",
              "      background-color: #E2EBFA;\n",
              "      box-shadow: 0px 1px 2px rgba(60, 64, 67, 0.3), 0px 1px 3px 1px rgba(60, 64, 67, 0.15);\n",
              "      fill: #174EA6;\n",
              "    }\n",
              "\n",
              "    [theme=dark] .colab-df-convert {\n",
              "      background-color: #3B4455;\n",
              "      fill: #D2E3FC;\n",
              "    }\n",
              "\n",
              "    [theme=dark] .colab-df-convert:hover {\n",
              "      background-color: #434B5C;\n",
              "      box-shadow: 0px 1px 3px 1px rgba(0, 0, 0, 0.15);\n",
              "      filter: drop-shadow(0px 1px 2px rgba(0, 0, 0, 0.3));\n",
              "      fill: #FFFFFF;\n",
              "    }\n",
              "  </style>\n",
              "\n",
              "      <script>\n",
              "        const buttonEl =\n",
              "          document.querySelector('#df-a9bc70d3-fb7f-4926-b16e-4f5b6c6149f1 button.colab-df-convert');\n",
              "        buttonEl.style.display =\n",
              "          google.colab.kernel.accessAllowed ? 'block' : 'none';\n",
              "\n",
              "        async function convertToInteractive(key) {\n",
              "          const element = document.querySelector('#df-a9bc70d3-fb7f-4926-b16e-4f5b6c6149f1');\n",
              "          const dataTable =\n",
              "            await google.colab.kernel.invokeFunction('convertToInteractive',\n",
              "                                                     [key], {});\n",
              "          if (!dataTable) return;\n",
              "\n",
              "          const docLinkHtml = 'Like what you see? Visit the ' +\n",
              "            '<a target=\"_blank\" href=https://colab.research.google.com/notebooks/data_table.ipynb>data table notebook</a>'\n",
              "            + ' to learn more about interactive tables.';\n",
              "          element.innerHTML = '';\n",
              "          dataTable['output_type'] = 'display_data';\n",
              "          await google.colab.output.renderOutput(dataTable, element);\n",
              "          const docLink = document.createElement('div');\n",
              "          docLink.innerHTML = docLinkHtml;\n",
              "          element.appendChild(docLink);\n",
              "        }\n",
              "      </script>\n",
              "    </div>\n",
              "  </div>\n",
              "  "
            ]
          },
          "metadata": {},
          "execution_count": 54
        }
      ]
    },
    {
      "cell_type": "code",
      "source": [
        ""
      ],
      "metadata": {
        "id": "5Sf1G8eCpvOl"
      },
      "execution_count": null,
      "outputs": []
    }
  ]
}